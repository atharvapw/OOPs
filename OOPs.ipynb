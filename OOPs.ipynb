{
  "nbformat": 4,
  "nbformat_minor": 0,
  "metadata": {
    "colab": {
      "provenance": []
    },
    "kernelspec": {
      "name": "python3",
      "display_name": "Python 3"
    },
    "language_info": {
      "name": "python"
    }
  },
  "cells": [
    {
      "cell_type": "markdown",
      "source": [
        "# ***OOPS***\n",
        "---\n",
        "---\n",
        "## ***Theory Questions.***\n",
        "---\n",
        "\n",
        "1. What is Object-Oriented Programming (OOP)?\n",
        "* OOP is a programming paradigm based on the concept of objects, which contain data (attributes) and methods (functions). It promotes code reusability, modularity, and scalability.\n",
        "\n",
        "2. What is a class in OOP?\n",
        "* A class is a blueprint or template for creating objects. It defines attributes (variables) and methods (functions) that the objects will have.\n",
        "\n",
        "3. What is an object in OOP?\n",
        "* An object is an instance of a class. It represents a real-world entity with state (attributes) and behavior (methods).\n",
        "\n",
        "4. Difference between abstraction and encapsulation?\n",
        "\n",
        "* Abstraction: Hides implementation details and shows only necessary features (focus on what).\n",
        "\n",
        "* Encapsulation: Binds data and methods into a single unit and restricts direct access (focus on how).\n",
        "\n",
        "5. What are dunder methods in Python?\n",
        "* Dunder (double underscore) methods like __init__, __str__, __len__ provide special functionality (also called magic methods).\n",
        "\n",
        "6. Explain inheritance in OOP.\n",
        "* Inheritance allows a class (child) to acquire properties and methods of another class (parent), promoting reusability.\n",
        "\n",
        "7. What is polymorphism in OOP?\n",
        "* Polymorphism means \"many forms\". It allows the same method name to have different behaviors depending on the object (e.g., method overriding).\n",
        "\n",
        "8. How is encapsulation achieved in Python?\n",
        "* By making attributes private (prefix _ or __) and providing getter/setter methods.\n",
        "\n",
        "9. What is a constructor in Python?\n",
        "* __init__() is the constructor method, automatically called when an object is created.\n",
        "\n",
        "10. What are class and static methods in Python?\n",
        "\n",
        "* Class method (@classmethod): Works with the class itself, takes cls as parameter.\n",
        "\n",
        "* Static method (@staticmethod): Independent of class/instance, like a normal function inside class.\n",
        "\n",
        "11. What is method overloading in Python?\n",
        "* Python doesn’t support true overloading, but it can be mimicked using default arguments or *args.\n",
        "\n",
        "12. What is method overriding in OOP?\n",
        "* When a child class provides its own implementation of a parent class method with the same signature.\n",
        "\n",
        "13. What is a property decorator in Python?\n",
        "* @property is used to define getter methods that can be accessed like attributes.\n",
        "\n",
        "14. Why is polymorphism important in OOP?\n",
        "* It improves flexibility and reusability, allowing one interface to work with different object types.\n",
        "\n",
        "14. Why is polymorphism important in OOP?\n",
        "It improves flexibility and reusability, allowing one interface to work with different object types.\n",
        "\n",
        "15. What is an abstract class in Python?\n",
        "* A class with at least one abstract method (@abstractmethod) defined in abc module. Cannot be instantiated.\n",
        "\n",
        "16. Advantages of OOP?\n",
        "* Code reusability\n",
        "* Modularity\n",
        "* Easy maintenance\n",
        "* Extensibility\n",
        "* Data security\n",
        "\n",
        "17. Difference between class variable and instance variable?\n",
        "* Class variable: Shared across all objects (defined at class level).\n",
        "* Instance variable: Unique to each object (defined in __init__).\n",
        "\n",
        "18. What is multiple inheritance in Python?\n",
        "* When a class inherits from more than one parent class.\n",
        "\n",
        "19. Purpose of __str__ and __repr__ methods?\n",
        "* __str__: User-friendly string representation (for print()).\n",
        "* __repr__: Developer-friendly representation (for debugging).\n",
        "\n",
        "20. Significance of super() function in Python?\n",
        "* Used to call methods from the parent class inside a child class.\n",
        "\n",
        "21. Significance of __del__ method in Python?\n",
        "* It is the destructor method, called when an object is deleted or garbage collected.\n",
        "\n",
        "22. Difference between @staticmethod and @classmethod?\n",
        "\n",
        "* @staticmethod: Doesn’t take self or cls, behaves like normal function.\n",
        "\n",
        "* @classmethod: Takes cls, modifies class-level data.\n",
        "\n",
        "23. How does polymorphism work in Python with inheritance?\n",
        "* Through method overriding — different subclasses can redefine the same method differently.\n",
        "\n",
        "24. What is method chaining in Python OOP?\n",
        "* Returning self from a method allows multiple methods to be called in a single line.\n",
        "\n",
        "25. Purpose of __call__ method in Python?\n",
        "* Makes an object callable like a function.\n",
        "\n",
        "---\n",
        "---\n",
        "\n",
        "## ***Practical Questions.***\n",
        "---\n",
        "\n",
        "\n"
      ],
      "metadata": {
        "id": "xpllOXqm5ZnK"
      }
    },
    {
      "cell_type": "code",
      "source": [
        "# 1. Create a parent class Animal with a method speak() that prints generic message. Create a child class Dog that overrides the speak() method to print Bark.\n",
        "\n",
        "# Parent class\n",
        "class Animal:\n",
        "    def speak(self):\n",
        "        print(\"This is a generic animal sound.\")\n",
        "\n",
        "# Child class\n",
        "class Dog(Animal):\n",
        "    def speak(self):\n",
        "        print(\"Bark!\")\n",
        "\n",
        "# --- Example usage ---\n",
        "a = Animal()\n",
        "a.speak()   # Output: This is a generic animal sound.\n",
        "\n",
        "d = Dog()\n",
        "d.speak()   # Output: Bark!"
      ],
      "metadata": {
        "colab": {
          "base_uri": "https://localhost:8080/"
        },
        "id": "JQYXKDztSj6G",
        "outputId": "d3ecf39e-fcf8-4325-9215-7296b172bb2d"
      },
      "execution_count": 10,
      "outputs": [
        {
          "output_type": "stream",
          "name": "stdout",
          "text": [
            "This is a generic animal sound.\n",
            "Bark!\n"
          ]
        }
      ]
    },
    {
      "cell_type": "code",
      "source": [
        "# 2. Write a program to create an abstract class shape with a method area, derive classes Circle and Rectangle from it and. Implement the area method in both.\n",
        "\n",
        "from abc import ABC, abstractmethod\n",
        "\n",
        "# Abstract class\n",
        "class Shape(ABC):\n",
        "    @abstractmethod\n",
        "    def area(self):\n",
        "        pass\n",
        "\n",
        "# Circle class\n",
        "class Circle(Shape):\n",
        "    def __init__(self, radius):\n",
        "        self.radius = radius\n",
        "\n",
        "    def area(self):\n",
        "        return 3.14 * self.radius * self.radius\n",
        "\n",
        "# Rectangle class\n",
        "class Rectangle(Shape):\n",
        "    def __init__(self, length, width):\n",
        "        self.length = length\n",
        "        self.width = width\n",
        "\n",
        "    def area(self):\n",
        "        return self.length * self.width\n",
        "\n",
        "\n",
        "# --- Example usage ---\n",
        "c = Circle(5)\n",
        "print(\"Area of Circle:\", c.area())\n",
        "\n",
        "r = Rectangle(4, 6)\n",
        "print(\"Area of Rectangle:\", r.area())\n"
      ],
      "metadata": {
        "colab": {
          "base_uri": "https://localhost:8080/"
        },
        "id": "dCwCQgRSS4qP",
        "outputId": "af7173c4-1945-42d3-9e93-75fe62b4ffb2"
      },
      "execution_count": 8,
      "outputs": [
        {
          "output_type": "stream",
          "name": "stdout",
          "text": [
            "Area of Circle: 78.5\n",
            "Area of Rectangle: 24\n"
          ]
        }
      ]
    },
    {
      "cell_type": "code",
      "source": [
        "# 3. Implement a multilevel inheritance scenario where a class Vehicle has an attribute type driver class Car and further driver class ElectricCar that adds a battery attribute.\n",
        "\n",
        "# Parent class\n",
        "class Vehicle:\n",
        "    def __init__(self, v_type):\n",
        "        self.v_type = v_type\n",
        "\n",
        "    def show_info(self):\n",
        "        print(f\"Vehicle type: {self.v_type}\")\n",
        "\n",
        "\n",
        "# Child class of Vehicle\n",
        "class Car(Vehicle):\n",
        "    def __init__(self, v_type, brand):\n",
        "        super().__init__(v_type)  # Call Vehicle's constructor\n",
        "        self.brand = brand\n",
        "\n",
        "    def show_info(self):\n",
        "        super().show_info()\n",
        "        print(f\"Car brand: {self.brand}\")\n",
        "\n",
        "\n",
        "# Grandchild class of Car\n",
        "class ElectricCar(Car):\n",
        "    def __init__(self, v_type, brand, battery):\n",
        "        super().__init__(v_type, brand)  # Call Car's constructor\n",
        "        self.battery = battery\n",
        "\n",
        "    def show_info(self):\n",
        "        super().show_info()\n",
        "        print(f\"Battery capacity: {self.battery} kWh\")\n",
        "\n",
        "\n",
        "# --- Example usage ---\n",
        "ecar = ElectricCar(\"Four Wheeler\", \"Tesla\", 85)\n",
        "ecar.show_info()\n"
      ],
      "metadata": {
        "colab": {
          "base_uri": "https://localhost:8080/"
        },
        "id": "H_CtKvlUTpTl",
        "outputId": "73b49ad3-bdca-4189-e20b-3d6676035d04"
      },
      "execution_count": 11,
      "outputs": [
        {
          "output_type": "stream",
          "name": "stdout",
          "text": [
            "Vehicle type: Four Wheeler\n",
            "Car brand: Tesla\n",
            "Battery capacity: 85 kWh\n"
          ]
        }
      ]
    },
    {
      "cell_type": "code",
      "source": [
        "# 4. Demonstrate polymorphism by creating a base class Bird with a method Fly, create two derived classes Sparrow and Penguin that overwrite the Fly.\n",
        "\n",
        "# Base class\n",
        "class Bird:\n",
        "    def fly(self):\n",
        "        print(\"Some birds can fly.\")\n",
        "\n",
        "# Derived class Sparrow\n",
        "class Sparrow(Bird):\n",
        "    def fly(self):\n",
        "        print(\"Sparrow flies high in the sky.\")\n",
        "\n",
        "# Derived class Penguin\n",
        "class Penguin(Bird):\n",
        "    def fly(self):\n",
        "        print(\"Penguins cannot fly, they swim instead.\")\n",
        "\n",
        "# --- Example usage ---\n",
        "birds = [Sparrow(), Penguin()]\n",
        "\n",
        "for bird in birds:\n",
        "    bird.fly()   # Polymorphism in action\n"
      ],
      "metadata": {
        "colab": {
          "base_uri": "https://localhost:8080/"
        },
        "id": "Sa3VO6LkUcYC",
        "outputId": "88cd217f-7869-48aa-a66a-026c8cad9f86"
      },
      "execution_count": 12,
      "outputs": [
        {
          "output_type": "stream",
          "name": "stdout",
          "text": [
            "Sparrow flies high in the sky.\n",
            "Penguins cannot fly, they swim instead.\n"
          ]
        }
      ]
    },
    {
      "cell_type": "code",
      "source": [
        "# 5. Write a program to demonstrate encapsulation by creating a class BankAccount with private attributes, balance, and methods to deposit, withdraw, and check balance.\n",
        "\n",
        "class BankAccount:\n",
        "    def __init__(self, balance=0):\n",
        "        self.__balance = balance   # private attribute\n",
        "\n",
        "    # Method to deposit money\n",
        "    def deposit(self, amount):\n",
        "        if amount > 0:\n",
        "            self.__balance += amount\n",
        "            print(f\"Deposited: {amount}\")\n",
        "        else:\n",
        "            print(\"Deposit amount must be positive.\")\n",
        "\n",
        "    # Method to withdraw money\n",
        "    def withdraw(self, amount):\n",
        "        if 0 < amount <= self.__balance:\n",
        "            self.__balance -= amount\n",
        "            print(f\"Withdrew: {amount}\")\n",
        "        else:\n",
        "            print(\"Insufficient balance or invalid amount.\")\n",
        "\n",
        "    # Method to check balance\n",
        "    def get_balance(self):\n",
        "        return self.__balance\n",
        "\n",
        "\n",
        "# --- Example usage ---\n",
        "account = BankAccount(1000)\n",
        "\n",
        "account.deposit(500)\n",
        "account.withdraw(300)\n",
        "print(\"Current Balance:\", account.get_balance())\n"
      ],
      "metadata": {
        "colab": {
          "base_uri": "https://localhost:8080/"
        },
        "id": "jzHK4f3XUkID",
        "outputId": "7f62be9f-ab1d-4050-ac28-7685ce507edb"
      },
      "execution_count": 13,
      "outputs": [
        {
          "output_type": "stream",
          "name": "stdout",
          "text": [
            "Deposited: 500\n",
            "Withdrew: 300\n",
            "Current Balance: 1200\n"
          ]
        }
      ]
    },
    {
      "cell_type": "code",
      "source": [
        "# 6. Demonstrate runtime polymorphism using a method PLAY in a bass-class instrument derived class Guitar and Piano that implement their own version of PLAY.\n",
        "\n",
        "# Base class\n",
        "class Instrument:\n",
        "    def play(self):\n",
        "        print(\"Playing some instrument...\")\n",
        "\n",
        "# Derived class Guitar\n",
        "class Guitar(Instrument):\n",
        "    def play(self):\n",
        "        print(\"Strumming the guitar 🎸\")\n",
        "\n",
        "# Derived class Piano\n",
        "class Piano(Instrument):\n",
        "    def play(self):\n",
        "        print(\"Playing the piano 🎹\")\n",
        "\n",
        "# --- Example usage ---\n",
        "instruments = [Instrument(), Guitar(), Piano()]\n",
        "\n",
        "for inst in instruments:\n",
        "    inst.play()   # Polymorphism in action\n"
      ],
      "metadata": {
        "colab": {
          "base_uri": "https://localhost:8080/"
        },
        "id": "6WFTnVoCV5d_",
        "outputId": "35aa59bd-7e14-4461-cf5f-04bd39937340"
      },
      "execution_count": 15,
      "outputs": [
        {
          "output_type": "stream",
          "name": "stdout",
          "text": [
            "Playing some instrument...\n",
            "Strumming the guitar 🎸\n",
            "Playing the piano 🎹\n"
          ]
        }
      ]
    },
    {
      "cell_type": "code",
      "source": [
        "# 7. Create a class MathOperation with the class method AddNumbers() to add two numbers and add static method SubtractNumbers() to subtract two numbers.\n",
        "\n",
        "class MathOperation:\n",
        "    # Class method to add two numbers\n",
        "    @classmethod\n",
        "    def AddNumbers(cls, a, b):\n",
        "        return a + b\n",
        "\n",
        "    # Static method to subtract two numbers\n",
        "    @staticmethod\n",
        "    def SubtractNumbers(a, b):\n",
        "        return a - b\n",
        "\n",
        "\n",
        "# --- Example usage ---\n",
        "print(\"Addition:\", MathOperation.AddNumbers(10, 5))\n",
        "print(\"Subtraction:\", MathOperation.SubtractNumbers(10, 5))\n"
      ],
      "metadata": {
        "colab": {
          "base_uri": "https://localhost:8080/"
        },
        "id": "FrP3xdmSXcaR",
        "outputId": "d302eaa9-ede7-4868-e50b-84c8069cd920"
      },
      "execution_count": 17,
      "outputs": [
        {
          "output_type": "stream",
          "name": "stdout",
          "text": [
            "Addition: 15\n",
            "Subtraction: 5\n"
          ]
        }
      ]
    },
    {
      "cell_type": "code",
      "source": [
        "# 8. Create a class MathOperation with the class method AddNumbers() to add two numbers and add static method SubtractNumbers() to subtract two numbers.\n",
        "\n",
        "class Person:\n",
        "    # Class variable to keep count\n",
        "    count = 0\n",
        "\n",
        "    def __init__(self, name):\n",
        "        self.name = name\n",
        "        Person.count += 1   # Increment count whenever a new object is created\n",
        "\n",
        "    # Class method to return total number of persons\n",
        "    @classmethod\n",
        "    def total_persons(cls):\n",
        "        return cls.count\n",
        "\n",
        "\n",
        "# --- Example usage ---\n",
        "p1 = Person(\"Alice\")\n",
        "p2 = Person(\"Bob\")\n",
        "p3 = Person(\"Charlie\")\n",
        "\n",
        "print(\"Total persons created:\", Person.total_persons())\n"
      ],
      "metadata": {
        "colab": {
          "base_uri": "https://localhost:8080/"
        },
        "id": "UIAa7q7jXvuM",
        "outputId": "44d570fc-121a-4afe-f5f8-fce307419d0b"
      },
      "execution_count": 20,
      "outputs": [
        {
          "output_type": "stream",
          "name": "stdout",
          "text": [
            "Total persons created: 3\n"
          ]
        }
      ]
    },
    {
      "cell_type": "code",
      "source": [
        "# 9. Write a class fraction with attributes Numerator and Denominator. Overwrite the str method to display the fraction as Numerator or Denominator.\n",
        "\n",
        "class Fraction:\n",
        "    def __init__(self, numerator, denominator):\n",
        "        self.numerator = numerator\n",
        "        self.denominator = denominator\n",
        "\n",
        "    # Override __str__ method\n",
        "    def __str__(self):\n",
        "        return f\"{self.numerator}/{self.denominator}\"\n",
        "\n",
        "\n",
        "# --- Example usage ---\n",
        "f1 = Fraction(3, 4)\n",
        "f2 = Fraction(7, 2)\n",
        "\n",
        "print(\"First Fraction:\", f1)\n",
        "print(\"Second Fraction:\", f2)\n"
      ],
      "metadata": {
        "colab": {
          "base_uri": "https://localhost:8080/"
        },
        "id": "rQH7Rp5vYtRm",
        "outputId": "e3feb637-a747-4470-eac6-a4d93d6c591d"
      },
      "execution_count": 21,
      "outputs": [
        {
          "output_type": "stream",
          "name": "stdout",
          "text": [
            "First Fraction: 3/4\n",
            "Second Fraction: 7/2\n"
          ]
        }
      ]
    },
    {
      "cell_type": "code",
      "source": [
        "# 10. Demonstrate operator overloading by creating a class Vector and overriding the add method to add two vectors.\n",
        "\n",
        "class Vector:\n",
        "    def __init__(self, x, y):\n",
        "        self.x = x\n",
        "        self.y = y\n",
        "\n",
        "    def __str__(self):\n",
        "        return f\"Vector({self.x}, {self.y})\"\n",
        "\n",
        "    # Overloading the + operator\n",
        "    def __add__(self, other):\n",
        "        if isinstance(other, Vector):\n",
        "            return Vector(self.x + other.x, self.y + other.y)\n",
        "        else:\n",
        "            raise ValueError(\"Can only add another Vector.\")\n",
        "\n",
        "# Example usage\n",
        "v1 = Vector(3, 4)\n",
        "v2 = Vector(5, 7)\n",
        "\n",
        "v3 = v1 + v2  # This will call v1.__add__(v2)\n",
        "print(v3)     # Output: Vector(8, 11)\n"
      ],
      "metadata": {
        "colab": {
          "base_uri": "https://localhost:8080/"
        },
        "id": "yDo4pWcnZFuO",
        "outputId": "45f27a1d-3379-46a7-d0bf-d1cd9d8b42ab"
      },
      "execution_count": 22,
      "outputs": [
        {
          "output_type": "stream",
          "name": "stdout",
          "text": [
            "Vector(8, 11)\n"
          ]
        }
      ]
    },
    {
      "cell_type": "code",
      "source": [
        "# 11. Create a class person with attributes name and age. Add a method greet that prints hello my name is name and I am age years old.\n",
        "\n",
        "class Person:\n",
        "    def __init__(self, name, age):\n",
        "        self.name = name\n",
        "        self.age = age\n",
        "\n",
        "    def greet(self):\n",
        "        print(f\"Hello, my name is {self.name} and I am {self.age} years old.\")\n",
        "\n",
        "# Example usage\n",
        "person1 = Person(\"Alice\", 25)\n",
        "person1.greet()\n"
      ],
      "metadata": {
        "colab": {
          "base_uri": "https://localhost:8080/"
        },
        "id": "LxKvQN_3ZcfJ",
        "outputId": "05faef1a-9175-48ae-c29b-78b25ae49ff1"
      },
      "execution_count": 24,
      "outputs": [
        {
          "output_type": "stream",
          "name": "stdout",
          "text": [
            "Hello, my name is Alice and I am 25 years old.\n"
          ]
        }
      ]
    },
    {
      "cell_type": "code",
      "source": [
        "# 12. Implement a class student with attributes name and grades. Create a method AverageGrade() to compute the average of grades.\n",
        "\n",
        "class Student:\n",
        "    def __init__(self, name, grades):\n",
        "        self.name = name\n",
        "        self.grades = grades  # grades should be a list of numbers\n",
        "\n",
        "    def AverageGrade(self):\n",
        "        if not self.grades:\n",
        "            return 0  # Avoid division by zero if grades list is empty\n",
        "        return sum(self.grades) / len(self.grades)\n",
        "\n",
        "# Example usage\n",
        "student1 = Student(\"John\", [85, 90, 78, 92])\n",
        "print(f\"{student1.name}'s average grade is {student1.AverageGrade():.2f}\")\n"
      ],
      "metadata": {
        "colab": {
          "base_uri": "https://localhost:8080/"
        },
        "id": "fCrcjJ3hZroY",
        "outputId": "c1d1ed3e-6d2e-4a9f-fac7-ccfd509919c5"
      },
      "execution_count": 25,
      "outputs": [
        {
          "output_type": "stream",
          "name": "stdout",
          "text": [
            "John's average grade is 86.25\n"
          ]
        }
      ]
    },
    {
      "cell_type": "code",
      "source": [
        "# 13. Create a class Rectangle with methods setDimensions to set the dimensions and area to calculate area.\n",
        "\n",
        "class Rectangle:\n",
        "    def __init__(self):\n",
        "        self.length = 0\n",
        "        self.width = 0\n",
        "\n",
        "    def setDimensions(self, length, width):\n",
        "        self.length = length\n",
        "        self.width = width\n",
        "\n",
        "    def area(self):\n",
        "        return self.length * self.width\n",
        "\n",
        "# Example usage\n",
        "rect = Rectangle()\n",
        "rect.setDimensions(5, 3)\n",
        "print(f\"The area of the rectangle is {rect.area()}\")\n"
      ],
      "metadata": {
        "colab": {
          "base_uri": "https://localhost:8080/"
        },
        "id": "AQRM31gvaitF",
        "outputId": "b1016f49-380e-4aef-e0cd-6ba4d539b7fc"
      },
      "execution_count": 26,
      "outputs": [
        {
          "output_type": "stream",
          "name": "stdout",
          "text": [
            "The area of the rectangle is 15\n"
          ]
        }
      ]
    },
    {
      "cell_type": "code",
      "source": [
        "# 14. Create a class employee with a method CalculateSalary() that compute the salary based on hours, work, and hourly rate. Create a derived class manager that adds a bonus to the salary.\n",
        "\n",
        "class Employee:\n",
        "    def __init__(self, name, hours_worked, hourly_rate):\n",
        "        self.name = name\n",
        "        self.hours_worked = hours_worked\n",
        "        self.hourly_rate = hourly_rate\n",
        "\n",
        "    def CalculateSalary(self):\n",
        "        return self.hours_worked * self.hourly_rate\n",
        "\n",
        "class Manager(Employee):\n",
        "    def __init__(self, name, hours_worked, hourly_rate, bonus):\n",
        "        super().__init__(name, hours_worked, hourly_rate)\n",
        "        self.bonus = bonus\n",
        "\n",
        "    # Override CalculateSalary to include bonus\n",
        "    def CalculateSalary(self):\n",
        "        base_salary = super().CalculateSalary()\n",
        "        return base_salary + self.bonus\n",
        "\n",
        "# Example usage\n",
        "emp = Employee(\"Alice\", 40, 15)\n",
        "mgr = Manager(\"Bob\", 40, 20, 500)\n",
        "\n",
        "print(f\"{emp.name}'s salary is: ${emp.CalculateSalary()}\")\n",
        "# Output: Alice's salary is: $600\n",
        "\n",
        "print(f\"{mgr.name}'s salary is: ${mgr.CalculateSalary()}\")\n"
      ],
      "metadata": {
        "colab": {
          "base_uri": "https://localhost:8080/"
        },
        "id": "3WGRXiMoaw6I",
        "outputId": "0db5cb9e-f94a-46cc-a3aa-1fe791ffba89"
      },
      "execution_count": 27,
      "outputs": [
        {
          "output_type": "stream",
          "name": "stdout",
          "text": [
            "Alice's salary is: $600\n",
            "Bob's salary is: $1300\n"
          ]
        }
      ]
    },
    {
      "cell_type": "code",
      "source": [
        "# 15. Create a class Product with attributes name, price, and quantity. Implement a method TotalPrice() that calculates the total price of the product.\n",
        "\n",
        "class Product:\n",
        "    def __init__(self, name, price, quantity):\n",
        "        self.name = name\n",
        "        self.price = price\n",
        "        self.quantity = quantity\n",
        "\n",
        "    def TotalPrice(self):\n",
        "        return self.price * self.quantity\n",
        "\n",
        "# Example usage\n",
        "product1 = Product(\"Laptop\", 800, 3)\n",
        "print(f\"Total price of {product1.name} is ${product1.TotalPrice()}\")"
      ],
      "metadata": {
        "colab": {
          "base_uri": "https://localhost:8080/"
        },
        "id": "-0ezs4nTa_yh",
        "outputId": "cfccf5cb-b68a-4993-98e2-34edfd1b4376"
      },
      "execution_count": 29,
      "outputs": [
        {
          "output_type": "stream",
          "name": "stdout",
          "text": [
            "Total price of Laptop is $2400\n"
          ]
        }
      ]
    },
    {
      "cell_type": "code",
      "source": [
        "# 16. Create a class Animal with an abstract method Sound. Create two derived classes Cow and Sheep that implement the Sound method.\n",
        "\n",
        "from abc import ABC, abstractmethod\n",
        "\n",
        "# Abstract base class\n",
        "class Animal(ABC):\n",
        "    @abstractmethod\n",
        "    def Sound(self):\n",
        "        pass  # Abstract method, must be implemented by derived classes\n",
        "\n",
        "# Derived class Cow\n",
        "class Cow(Animal):\n",
        "    def Sound(self):\n",
        "        print(\"Cow says: Moo\")\n",
        "\n",
        "# Derived class Sheep\n",
        "class Sheep(Animal):\n",
        "    def Sound(self):\n",
        "        print(\"Sheep says: Baa\")\n",
        "\n",
        "# Example usage\n",
        "cow = Cow()\n",
        "sheep = Sheep()\n",
        "\n",
        "cow.Sound()\n",
        "sheep.Sound()\n"
      ],
      "metadata": {
        "colab": {
          "base_uri": "https://localhost:8080/"
        },
        "id": "g1M3JBkcbQsr",
        "outputId": "4da7ec86-ce15-41d3-f840-2bafdfc46bc9"
      },
      "execution_count": 28,
      "outputs": [
        {
          "output_type": "stream",
          "name": "stdout",
          "text": [
            "Cow says: Moo\n",
            "Sheep says: Baa\n"
          ]
        }
      ]
    },
    {
      "cell_type": "code",
      "source": [
        "# 17. Create a class Book with attributes title, author, and year published. Add a method getBookInfo() that returns a formatted string with the book's details.\n",
        "\n",
        "class Book:\n",
        "    def __init__(self, title, author, year_published):\n",
        "        self.title = title\n",
        "        self.author = author\n",
        "        self.year_published = year_published\n",
        "\n",
        "    def getBookInfo(self):\n",
        "        return f\"'{self.title}' by {self.author}, published in {self.year_published}\"\n",
        "\n",
        "# Example usage\n",
        "book1 = Book(\"1984\", \"George Orwell\", 1949)\n",
        "print(book1.getBookInfo())\n"
      ],
      "metadata": {
        "colab": {
          "base_uri": "https://localhost:8080/"
        },
        "id": "tGCCm_7HbWPc",
        "outputId": "d87d772f-85df-4269-bd5b-9d445cc163e0"
      },
      "execution_count": 30,
      "outputs": [
        {
          "output_type": "stream",
          "name": "stdout",
          "text": [
            "'1984' by George Orwell, published in 1949\n"
          ]
        }
      ]
    },
    {
      "cell_type": "code",
      "source": [
        "# 18. Create a class House with attributes Address and Price, create a derived class Mansion that adds an attribute number of rooms.\n",
        "\n",
        "# Base class\n",
        "class House:\n",
        "    def __init__(self, address, price):\n",
        "        self.address = address\n",
        "        self.price = price\n",
        "\n",
        "    def getInfo(self):\n",
        "        return f\"House at {self.address} priced at ${self.price}\"\n",
        "\n",
        "# Derived class\n",
        "class Mansion(House):\n",
        "    def __init__(self, address, price, number_of_rooms):\n",
        "        super().__init__(address, price)\n",
        "        self.number_of_rooms = number_of_rooms\n",
        "\n",
        "    def getInfo(self):\n",
        "        return f\"Mansion at {self.address} priced at ${self.price} with {self.number_of_rooms} rooms\"\n",
        "\n",
        "# Example usage\n",
        "house = House(\"123 Maple Street\", 250000)\n",
        "mansion = Mansion(\"456 Oak Avenue\", 2000000, 10)\n",
        "\n",
        "print(house.getInfo())\n",
        "# Output: House at 123 Maple Street priced at $250000\n",
        "\n",
        "print(mansion.getInfo())\n"
      ],
      "metadata": {
        "colab": {
          "base_uri": "https://localhost:8080/"
        },
        "id": "Mm_Qp8oNbvdL",
        "outputId": "41d4bc66-5e33-4a79-cb1a-1dacb10fbb2b"
      },
      "execution_count": 31,
      "outputs": [
        {
          "output_type": "stream",
          "name": "stdout",
          "text": [
            "House at 123 Maple Street priced at $250000\n",
            "Mansion at 456 Oak Avenue priced at $2000000 with 10 rooms\n"
          ]
        }
      ]
    }
  ]
}